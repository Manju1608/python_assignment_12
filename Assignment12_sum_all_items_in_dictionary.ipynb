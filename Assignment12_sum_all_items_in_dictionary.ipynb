{
  "nbformat": 4,
  "nbformat_minor": 0,
  "metadata": {
    "colab": {
      "name": "Welcome To Colaboratory",
      "provenance": [],
      "collapsed_sections": [],
      "include_colab_link": true
    },
    "kernelspec": {
      "display_name": "Python 3",
      "name": "python3"
    }
  },
  "cells": [
    {
      "cell_type": "markdown",
      "metadata": {
        "id": "view-in-github",
        "colab_type": "text"
      },
      "source": [
        "<a href=\"https://colab.research.google.com/github/Manju1608/python_assignment_12/blob/master/Assignment12_sum_all_items_in_dictionary.ipynb\" target=\"_parent\"><img src=\"https://colab.research.google.com/assets/colab-badge.svg\" alt=\"Open In Colab\"/></a>"
      ]
    },
    {
      "cell_type": "code",
      "metadata": {
        "id": "YNju7KBldLEo",
        "colab_type": "code",
        "colab": {
          "base_uri": "https://localhost:8080/",
          "height": 149
        },
        "outputId": "e3256bbc-943b-44c5-fb64-96b723a657a3"
      },
      "source": [
        " \n",
        "def returnSum(myDict):     sum = 0    for i in myDict:         sum = sum + myDict[i]     return sumdict = {'a': 100, 'b':200, 'c':300} print(\"Sum :\", returnSum(dict))"
      ],
      "execution_count": 6,
      "outputs": [
        {
          "output_type": "error",
          "ename": "SyntaxError",
          "evalue": "ignored",
          "traceback": [
            "\u001b[0;36m  File \u001b[0;32m\"<ipython-input-6-75378f490123>\"\u001b[0;36m, line \u001b[0;32m2\u001b[0m\n\u001b[0;31m    def returnSum(myDict):     sum = 0    for i in myDict:         sum = sum + myDict[i]     return sumdict = {'a': 100, 'b':200, 'c':300} print(\"Sum :\", returnSum(dict))\u001b[0m\n\u001b[0m                                            ^\u001b[0m\n\u001b[0;31mSyntaxError\u001b[0m\u001b[0;31m:\u001b[0m invalid syntax\n"
          ]
        }
      ]
    }
  ]
}